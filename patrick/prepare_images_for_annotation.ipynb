{
 "cells": [
  {
   "cell_type": "code",
   "execution_count": 1,
   "metadata": {},
   "outputs": [],
   "source": [
    "from pathlib import Path\n",
    "\n",
    "import h5py\n",
    "import matplotlib.pyplot as plt\n",
    "import numpy as np"
   ]
  },
  {
   "cell_type": "code",
   "execution_count": 2,
   "metadata": {},
   "outputs": [],
   "source": [
    "data_dir_path = Path.home() / \"data\"\n",
    "tokam_dir_path = data_dir_path / \"tokam2d\"\n",
    "\n",
    "experiment = \"movies_241018\"\n",
    "\n",
    "\n",
    "file_path = tokam_dir_path / experiment / \"data_for_detection.h5\""
   ]
  },
  {
   "cell_type": "code",
   "execution_count": 3,
   "metadata": {},
   "outputs": [],
   "source": [
    "with h5py.File(file_path, \"r\") as f:\n",
    "    turbulent_intensity = np.array(f[\"Isq\"])\n",
    "    density = np.array(f[\"density\"])\n",
    "    potential = np.array(f[\"potential\"])\n",
    "    vorticity = np.array(f[\"vorticity\"])"
   ]
  },
  {
   "cell_type": "code",
   "execution_count": null,
   "metadata": {},
   "outputs": [],
   "source": [
    "field = turbulent_intensity\n",
    "\n",
    "print(field.shape)"
   ]
  },
  {
   "cell_type": "code",
   "execution_count": null,
   "metadata": {},
   "outputs": [],
   "source": [
    "for i in range(100, len(field), 100):\n",
    "    plt.imshow(field[i, :, :])\n",
    "    plt.axis(\"off\")\n",
    "    plt.title(i)\n",
    "    plt.show()"
   ]
  },
  {
   "cell_type": "code",
   "execution_count": 27,
   "metadata": {},
   "outputs": [],
   "source": [
    "x_t_diagram = density.mean(axis=1)[::-10, :]"
   ]
  },
  {
   "cell_type": "code",
   "execution_count": null,
   "metadata": {},
   "outputs": [],
   "source": [
    "fig, ax = plt.subplots(1, 1, figsize=(10, 10))\n",
    "\n",
    "ax.imshow(x_t_diagram)\n",
    "ax.set_xlabel(\"x\")\n",
    "ax.set_ylabel(\"time\")\n",
    "fig.show()"
   ]
  },
  {
   "cell_type": "code",
   "execution_count": 6,
   "metadata": {},
   "outputs": [],
   "source": [
    "output_dir_path = Path.home() / f\"data/pattern_detection_tokam/{experiment}\"\n",
    "output_dir_path.mkdir(parents=True, exist_ok=True)\n",
    "\n",
    "for i in range(100, len(turbulent_intensity), 100):\n",
    "    file_path = output_dir_path / f\"turbulent_intensity_frame_{i}.txt\"\n",
    "    np.savetxt(file_path, turbulent_intensity[i, :, :])"
   ]
  },
  {
   "cell_type": "code",
   "execution_count": null,
   "metadata": {},
   "outputs": [],
   "source": []
  }
 ],
 "metadata": {
  "kernelspec": {
   "display_name": "dicodile",
   "language": "python",
   "name": "python3"
  },
  "language_info": {
   "codemirror_mode": {
    "name": "ipython",
    "version": 3
   },
   "file_extension": ".py",
   "mimetype": "text/x-python",
   "name": "python",
   "nbconvert_exporter": "python",
   "pygments_lexer": "ipython3",
   "version": "3.10.15"
  }
 },
 "nbformat": 4,
 "nbformat_minor": 2
}
