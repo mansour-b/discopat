{
 "cells": [
  {
   "cell_type": "code",
   "execution_count": 1,
   "metadata": {},
   "outputs": [],
   "source": [
    "from pathlib import Path\n",
    "\n",
    "import h5py\n",
    "import matplotlib.pyplot as plt\n",
    "import numpy as np"
   ]
  },
  {
   "cell_type": "code",
   "execution_count": 2,
   "metadata": {},
   "outputs": [],
   "source": [
    "data_dir_path = Path.home() / \"data\"\n",
    "tokam_dir_path = data_dir_path / \"tokam2d\"\n",
    "pattern_detection_path = data_dir_path / \"pattern_detection_tokam\""
   ]
  },
  {
   "cell_type": "code",
   "execution_count": 3,
   "metadata": {},
   "outputs": [],
   "source": [
    "experiment = \"interchange_nodriftwave\"\n",
    "\n",
    "file_path = tokam_dir_path / experiment / \"data_TOKAM_run_00.h5\""
   ]
  },
  {
   "cell_type": "code",
   "execution_count": null,
   "metadata": {},
   "outputs": [],
   "source": [
    "with h5py.File(file_path, \"r\") as f:\n",
    "    density = np.array(f[\"density\"])\n",
    "print(density.shape)"
   ]
  },
  {
   "cell_type": "code",
   "execution_count": 5,
   "metadata": {},
   "outputs": [],
   "source": [
    "indices = np.arange(start=400, stop=2047, step=200)"
   ]
  },
  {
   "cell_type": "code",
   "execution_count": null,
   "metadata": {},
   "outputs": [],
   "source": [
    "fig, axes = plt.subplots(len(indices), 1, figsize=(6, 6 * len(indices)))\n",
    "\n",
    "for i, ax in zip(indices, axes):\n",
    "    ax.imshow(density[i, :, :])\n",
    "    ax.axis(\"off\")\n",
    "    ax.set_title(f\"Frame {i}\")\n",
    "fig.show()\n"
   ]
  },
  {
   "cell_type": "code",
   "execution_count": 6,
   "metadata": {},
   "outputs": [],
   "source": [
    "output_dir_path = pattern_detection_path / \"input\" / experiment\n",
    "output_dir_path.mkdir(parents=True, exist_ok=True)\n",
    "\n",
    "for i in indices:\n",
    "    np.savetxt(\n",
    "        output_dir_path / f\"frame_{i}.txt\", density[i, :, :]\n",
    "    )"
   ]
  },
  {
   "cell_type": "code",
   "execution_count": null,
   "metadata": {},
   "outputs": [],
   "source": []
  }
 ],
 "metadata": {
  "kernelspec": {
   "display_name": "dicodile",
   "language": "python",
   "name": "python3"
  },
  "language_info": {
   "codemirror_mode": {
    "name": "ipython",
    "version": 3
   },
   "file_extension": ".py",
   "mimetype": "text/x-python",
   "name": "python",
   "nbconvert_exporter": "python",
   "pygments_lexer": "ipython3",
   "version": "3.10.15"
  }
 },
 "nbformat": 4,
 "nbformat_minor": 2
}
