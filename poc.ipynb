{
 "cells": [
  {
   "cell_type": "code",
   "execution_count": 18,
   "metadata": {},
   "outputs": [],
   "source": [
    "from pathlib import Path\n",
    "\n",
    "import matplotlib.pyplot as plt\n",
    "import numpy as np\n",
    "\n",
    "from dicodile.utils.csc import reconstruct\n",
    "from dicodile.utils.viz import display_dictionaries"
   ]
  },
  {
   "cell_type": "code",
   "execution_count": 7,
   "metadata": {},
   "outputs": [],
   "source": [
    "data_dir_path = Path.home() / \"data/pattern_detection_tokam\""
   ]
  },
  {
   "cell_type": "code",
   "execution_count": 8,
   "metadata": {},
   "outputs": [],
   "source": [
    "input_dir_path = data_dir_path / \"input\"\n",
    "file_path_list = sorted(input_dir_path.glob(\"*\"))"
   ]
  },
  {
   "cell_type": "code",
   "execution_count": 9,
   "metadata": {},
   "outputs": [],
   "source": [
    "for file_path in file_path_list:\n",
    "    break\n",
    "    plt.imshow(plt.imread(file_path))\n",
    "    plt.show()"
   ]
  },
  {
   "cell_type": "code",
   "execution_count": null,
   "metadata": {},
   "outputs": [],
   "source": [
    "image_array = plt.imread(file_path_list[0])\n",
    "plt.imshow(image_array)\n",
    "plt.show()"
   ]
  },
  {
   "cell_type": "markdown",
   "metadata": {},
   "source": [
    "Dictionary shape: (n_atoms, n_channels, *atom_support)"
   ]
  },
  {
   "cell_type": "code",
   "execution_count": null,
   "metadata": {},
   "outputs": [],
   "source": [
    "learned_dict_dir_path = data_dir_path / \"learned_dictionaries/first_image\"\n",
    "\n",
    "time_str_list = sorted(\n",
    "    {\n",
    "        f\"{file_path.stem.split('_')[2]}_{file_path.stem.split('_')[3]}\"\n",
    "        for file_path in learned_dict_dir_path.glob(\"*\")\n",
    "    }\n",
    ")\n",
    "\n",
    "print(time_str_list)"
   ]
  },
  {
   "cell_type": "code",
   "execution_count": 39,
   "metadata": {},
   "outputs": [],
   "source": [
    "time_str = time_str_list[-1]\n",
    "\n",
    "D_hat = np.load(learned_dict_dir_path / f\"D_hat_{time_str}.npy\")\n",
    "z_hat = np.load(learned_dict_dir_path / f\"z_hat_{time_str}.npy\")"
   ]
  },
  {
   "cell_type": "code",
   "execution_count": null,
   "metadata": {},
   "outputs": [],
   "source": [
    "print(D_hat.shape, D_hat.min(), D_hat.max())"
   ]
  },
  {
   "cell_type": "code",
   "execution_count": null,
   "metadata": {},
   "outputs": [],
   "source": [
    "print(np.sum(D_hat**2, axis=(1, 2, 3)))"
   ]
  },
  {
   "cell_type": "code",
   "execution_count": null,
   "metadata": {},
   "outputs": [],
   "source": [
    "normalisation = np.reshape(np.max(D_hat, axis=(1, 2, 3)), (-1, 1, 1, 1))\n",
    "\n",
    "display_dictionaries(D_hat / normalisation)\n",
    "plt.show()"
   ]
  },
  {
   "cell_type": "code",
   "execution_count": null,
   "metadata": {},
   "outputs": [],
   "source": [
    "print(z_hat.shape, z_hat.min(), z_hat.max())"
   ]
  },
  {
   "cell_type": "code",
   "execution_count": null,
   "metadata": {},
   "outputs": [],
   "source": [
    "plt.imshow(z_hat.transpose([1, 2, 0]))\n",
    "plt.show()"
   ]
  },
  {
   "cell_type": "code",
   "execution_count": 45,
   "metadata": {},
   "outputs": [],
   "source": [
    "X_hat = reconstruct(z_hat, D_hat)\n",
    "X_hat = np.clip(X_hat, 0, 1)\n",
    "X_hat = X_hat.transpose([1, 2, 0])"
   ]
  },
  {
   "cell_type": "code",
   "execution_count": null,
   "metadata": {},
   "outputs": [],
   "source": [
    "f, (ax1, ax2) = plt.subplots(2, 1, figsize=[6.4, 8])\n",
    "\n",
    "ax1.imshow(image_array, cmap='gray')\n",
    "ax1.set_title('Original image')\n",
    "ax1.axis('off')\n",
    "\n",
    "ax2.imshow(X_hat, cmap='gray')\n",
    "ax2.set_title('Recovered image')\n",
    "ax2.axis('off')\n",
    "plt.tight_layout()"
   ]
  },
  {
   "cell_type": "code",
   "execution_count": null,
   "metadata": {},
   "outputs": [],
   "source": []
  }
 ],
 "metadata": {
  "kernelspec": {
   "display_name": "dicodile",
   "language": "python",
   "name": "python3"
  },
  "language_info": {
   "codemirror_mode": {
    "name": "ipython",
    "version": 3
   },
   "file_extension": ".py",
   "mimetype": "text/x-python",
   "name": "python",
   "nbconvert_exporter": "python",
   "pygments_lexer": "ipython3",
   "version": "3.10.15"
  }
 },
 "nbformat": 4,
 "nbformat_minor": 2
}
