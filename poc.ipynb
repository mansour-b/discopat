{
 "cells": [
  {
   "cell_type": "code",
   "execution_count": 1,
   "metadata": {},
   "outputs": [],
   "source": [
    "from pathlib import Path\n",
    "\n",
    "import matplotlib.pyplot as plt\n",
    "import numpy as np\n",
    "\n",
    "from dicodile.utils.csc import reconstruct\n",
    "from dicodile.utils.viz import display_dictionaries\n",
    "\n",
    "from load_dict import load_dict_and_activations"
   ]
  },
  {
   "cell_type": "code",
   "execution_count": 2,
   "metadata": {},
   "outputs": [],
   "source": [
    "data_dir_path = Path.home() / \"data\"\n",
    "pattern_detection_path = data_dir_path / \"pattern_detection_tokam\""
   ]
  },
  {
   "cell_type": "code",
   "execution_count": null,
   "metadata": {},
   "outputs": [],
   "source": [
    "experiment = \"interchange_nodriftwave\"\n",
    "frame = 1000\n",
    "\n",
    "input_dir_path = pattern_detection_path / \"input\" / experiment\n",
    "input_file_path = input_dir_path / f\"frame_{frame}.txt\"\n",
    "\n",
    "D_hat, z_hat = load_dict_and_activations(experiment, frame, verbose=1)"
   ]
  },
  {
   "cell_type": "code",
   "execution_count": null,
   "metadata": {},
   "outputs": [],
   "source": [
    "image_array = np.loadtxt(input_file_path)\n",
    "plt.imshow(image_array)\n",
    "plt.axis(\"off\")\n",
    "plt.show()"
   ]
  },
  {
   "cell_type": "code",
   "execution_count": null,
   "metadata": {},
   "outputs": [],
   "source": [
    "plt.hist(image_array.flatten(), bins=100)\n",
    "plt.show()"
   ]
  },
  {
   "cell_type": "code",
   "execution_count": 6,
   "metadata": {},
   "outputs": [],
   "source": [
    "n_atoms = len(D_hat)"
   ]
  },
  {
   "cell_type": "code",
   "execution_count": null,
   "metadata": {},
   "outputs": [],
   "source": [
    "# Dictionary shape: (n_atoms, n_channels, *atom_support)\n",
    "\n",
    "print(D_hat.shape, D_hat.min(), D_hat.max())"
   ]
  },
  {
   "cell_type": "code",
   "execution_count": null,
   "metadata": {},
   "outputs": [],
   "source": [
    "# Atoms sum to 1\n",
    "\n",
    "print(np.sum(D_hat**2, axis=(1, 2, 3)))"
   ]
  },
  {
   "cell_type": "code",
   "execution_count": null,
   "metadata": {},
   "outputs": [],
   "source": [
    "normalisation = np.reshape(np.max(D_hat, axis=(1, 2, 3)), (-1, 1, 1, 1))\n",
    "\n",
    "display_dictionaries(D_hat / normalisation)\n",
    "plt.show()"
   ]
  },
  {
   "cell_type": "code",
   "execution_count": null,
   "metadata": {},
   "outputs": [],
   "source": [
    "print(z_hat.shape, z_hat.min(), z_hat.max())"
   ]
  },
  {
   "cell_type": "code",
   "execution_count": null,
   "metadata": {},
   "outputs": [],
   "source": [
    "fig, axes = plt.subplots(n_atoms, 1, figsize=(6, 6 * n_atoms))\n",
    "\n",
    "for ax, z in zip(axes, z_hat):\n",
    "    ax.imshow(\n",
    "        z / z.max(), cmap=\"gray\"\n",
    "    )\n",
    "    ax.axis(\"off\")\n",
    "fig.show()"
   ]
  },
  {
   "cell_type": "code",
   "execution_count": 12,
   "metadata": {},
   "outputs": [],
   "source": [
    "X_hat = reconstruct(z_hat, D_hat)\n",
    "X_hat = np.clip(X_hat, 0, 1)\n",
    "X_hat = X_hat.transpose([1, 2, 0])"
   ]
  },
  {
   "cell_type": "code",
   "execution_count": null,
   "metadata": {},
   "outputs": [],
   "source": [
    "f, (ax1, ax2) = plt.subplots(2, 1, figsize=[6.4, 8])\n",
    "\n",
    "ax1.imshow(image_array, cmap='gray')\n",
    "ax1.set_title('Original image')\n",
    "ax1.axis('off')\n",
    "\n",
    "ax2.imshow(X_hat + image_array.mean(), cmap='gray')\n",
    "ax2.set_title('Recovered image')\n",
    "ax2.axis('off')\n",
    "plt.tight_layout()"
   ]
  },
  {
   "cell_type": "code",
   "execution_count": null,
   "metadata": {},
   "outputs": [],
   "source": [
    "counts, values = np.histogram(image_array, bins=100)\n",
    "mode = values[np.argmax(counts)]\n",
    "\n",
    "plt.hist(image_array.flatten(), bins=100)\n",
    "plt.hist(X_hat[X_hat > 0].flatten(), bins=100)\n",
    "plt.hist((X_hat + np.mean(image_array))[X_hat > 0].flatten(), bins=100)\n",
    "plt.axvline(image_array.mean(), color=\"k\")\n",
    "plt.axvline(mode, color=\"k\", linestyle=\":\")\n",
    "\n",
    "plt.show()"
   ]
  },
  {
   "cell_type": "code",
   "execution_count": null,
   "metadata": {},
   "outputs": [],
   "source": []
  }
 ],
 "metadata": {
  "kernelspec": {
   "display_name": "dicodile",
   "language": "python",
   "name": "python3"
  },
  "language_info": {
   "codemirror_mode": {
    "name": "ipython",
    "version": 3
   },
   "file_extension": ".py",
   "mimetype": "text/x-python",
   "name": "python",
   "nbconvert_exporter": "python",
   "pygments_lexer": "ipython3",
   "version": "3.10.15"
  }
 },
 "nbformat": 4,
 "nbformat_minor": 2
}
