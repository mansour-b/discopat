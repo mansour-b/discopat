{
 "cells": [
  {
   "cell_type": "markdown",
   "metadata": {},
   "source": [
    "### Imports"
   ]
  },
  {
   "cell_type": "code",
   "execution_count": 1,
   "metadata": {},
   "outputs": [],
   "source": [
    "from tqdm import tqdm\n",
    "\n",
    "from patrick.core import Movie\n",
    "from patrick.display import plot_frame\n",
    "from patrick.interfaces.model import ModelBuilder\n",
    "from patrick.repositories.factory import (\n",
    "    model_repository_factory,\n",
    "    movie_repository_factory,\n",
    "    net_builder_factory,\n",
    "    net_repository_factory,\n",
    ")"
   ]
  },
  {
   "cell_type": "markdown",
   "metadata": {},
   "source": [
    "### Definitions"
   ]
  },
  {
   "cell_type": "code",
   "execution_count": 2,
   "metadata": {},
   "outputs": [],
   "source": [
    "movie_name = \"blob_i_density\"\n",
    "model_name = \"faster_rcnn_241113_131447\"\n",
    "\n",
    "computing_device = \"cpu\"\n",
    "data_source = \"local\"\n",
    "framework = \"torch\""
   ]
  },
  {
   "cell_type": "markdown",
   "metadata": {},
   "source": [
    "### Load the images"
   ]
  },
  {
   "cell_type": "code",
   "execution_count": null,
   "metadata": {},
   "outputs": [],
   "source": [
    "movie_repository = movie_repository_factory(data_source, \"input\")\n",
    "movie = movie_repository.read(movie_name)\n",
    "\n",
    "movie.frames = movie.frames[1:10:3]\n",
    "\n",
    "for frame in movie.frames:\n",
    "    plot_frame(frame)"
   ]
  },
  {
   "cell_type": "markdown",
   "metadata": {},
   "source": [
    "### Load the model"
   ]
  },
  {
   "cell_type": "code",
   "execution_count": null,
   "metadata": {},
   "outputs": [],
   "source": [
    "net_repository = net_repository_factory(\n",
    "    data_source, framework, computing_device\n",
    ")\n",
    "net_builder = net_builder_factory(\n",
    "    framework, computing_device, net_repository\n",
    ")\n",
    "\n",
    "model_repository = model_repository_factory(data_source)\n",
    "model_repository._net_builder = net_builder\n",
    "\n",
    "model_builder = ModelBuilder(model_name, model_repository)\n",
    "\n",
    "model = model_builder.build()"
   ]
  },
  {
   "cell_type": "markdown",
   "metadata": {},
   "source": [
    "### Compute predictions"
   ]
  },
  {
   "cell_type": "code",
   "execution_count": null,
   "metadata": {},
   "outputs": [],
   "source": [
    "analysed_frames = [model.predict(frame) for frame in tqdm(movie.frames)]\n",
    "analysed_movie = Movie(name=movie.name, frames=analysed_frames, tracks=[])"
   ]
  },
  {
   "cell_type": "markdown",
   "metadata": {},
   "source": [
    "### Display predictions"
   ]
  },
  {
   "cell_type": "code",
   "execution_count": null,
   "metadata": {},
   "outputs": [],
   "source": [
    "for frame in analysed_movie.frames:\n",
    "    plot_frame(frame)"
   ]
  }
 ],
 "metadata": {
  "kernelspec": {
   "display_name": "dicodile",
   "language": "python",
   "name": "python3"
  },
  "language_info": {
   "codemirror_mode": {
    "name": "ipython",
    "version": 3
   },
   "file_extension": ".py",
   "mimetype": "text/x-python",
   "name": "python",
   "nbconvert_exporter": "python",
   "pygments_lexer": "ipython3",
   "version": "3.10.15"
  }
 },
 "nbformat": 4,
 "nbformat_minor": 2
}
